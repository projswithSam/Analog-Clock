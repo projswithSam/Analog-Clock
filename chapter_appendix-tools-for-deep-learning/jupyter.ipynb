{
  "cells": [
    {
      "cell_type": "markdown",
      "id": "31d9a4c9",
      "metadata": {
        "origin_pos": 0,
        "id": "31d9a4c9"
      },
      "source": [
        "# Using Jupyter Notebooks\n",
        ":label:`sec_jupyter`\n",
        "\n",
        "\n",
        "This section describes how to edit and run the code\n",
        "in each section of this book\n",
        "using the Jupyter Notebook. Make sure you have\n",
        "installed Jupyter and downloaded the\n",
        "code as described in\n",
        ":ref:`chap_installation`.\n",
        "If you want to know more about Jupyter see the excellent tutorial in\n",
        "their [documentation](https://jupyter.readthedocs.io/en/latest/).\n",
        "\n",
        "\n",
        "## Editing and Running the Code Locally\n",
        "\n",
        "Suppose that the local path of the book's code is `xx/yy/d2l-en/`. Use the shell to change the directory to this path (`cd xx/yy/d2l-en`) and run the command `jupyter notebook`. If your browser does not do this automatically, open http://localhost:8888 and you will see the interface of Jupyter and all the folders containing the code of the book, as shown in :numref:`fig_jupyter00`.\n",
        "\n",
        "![The folders containing the code of this book.](https://github.com/d2l-ai/d2l-en-colab/blob/master/img/jupyter00.png?raw=1)\n",
        ":width:`600px`\n",
        ":label:`fig_jupyter00`\n",
        "\n",
        "\n",
        "You can access the notebook files by clicking on the folder displayed on the webpage.\n",
        "They usually have the suffix \".ipynb\".\n",
        "For the sake of brevity, we create a temporary \"test.ipynb\" file.\n",
        "The content displayed after you click it is\n",
        "shown in :numref:`fig_jupyter01`.\n",
        "This notebook includes a markdown cell and a code cell. The content in the markdown cell includes \"This Is a Title\" and \"This is text.\".\n",
        "The code cell contains two lines of Python code.\n",
        "\n",
        "![Markdown and code cells in the \"text.ipynb\" file.](https://github.com/d2l-ai/d2l-en-colab/blob/master/img/jupyter01.png?raw=1)\n",
        ":width:`600px`\n",
        ":label:`fig_jupyter01`\n",
        "\n",
        "\n",
        "Double click on the markdown cell to enter edit mode.\n",
        "Add a new text string \"Hello world.\" at the end of the cell, as shown in :numref:`fig_jupyter02`.\n",
        "\n",
        "![Edit the markdown cell.](https://github.com/d2l-ai/d2l-en-colab/blob/master/img/jupyter02.png?raw=1)\n",
        ":width:`600px`\n",
        ":label:`fig_jupyter02`\n",
        "\n",
        "\n",
        "As demonstrated in :numref:`fig_jupyter03`,\n",
        "click \"Cell\" $\\rightarrow$ \"Run Cells\" in the menu bar to run the edited cell.\n",
        "\n",
        "![Run the cell.](https://github.com/d2l-ai/d2l-en-colab/blob/master/img/jupyter03.png?raw=1)\n",
        ":width:`600px`\n",
        ":label:`fig_jupyter03`\n",
        "\n",
        "After running, the markdown cell is shown in :numref:`fig_jupyter04`.\n",
        "\n",
        "![The markdown cell after running.](https://github.com/d2l-ai/d2l-en-colab/blob/master/img/jupyter04.png?raw=1)\n",
        ":width:`600px`\n",
        ":label:`fig_jupyter04`\n",
        "\n",
        "\n",
        "Next, click on the code cell. Multiply the elements by 2 after the last line of code, as shown in :numref:`fig_jupyter05`.\n",
        "\n",
        "![Edit the code cell.](https://github.com/d2l-ai/d2l-en-colab/blob/master/img/jupyter05.png?raw=1)\n",
        ":width:`600px`\n",
        ":label:`fig_jupyter05`\n",
        "\n",
        "\n",
        "You can also run the cell with a shortcut (\"Ctrl + Enter\" by default) and obtain the output result from :numref:`fig_jupyter06`.\n",
        "\n",
        "![Run the code cell to obtain the output.](https://github.com/d2l-ai/d2l-en-colab/blob/master/img/jupyter06.png?raw=1)\n",
        ":width:`600px`\n",
        ":label:`fig_jupyter06`\n",
        "\n",
        "\n",
        "When a notebook contains more cells, we can click \"Kernel\" $\\rightarrow$ \"Restart & Run All\" in the menu bar to run all the cells in the entire notebook. By clicking \"Help\" $\\rightarrow$ \"Edit Keyboard Shortcuts\" in the menu bar, you can edit the shortcuts according to your preferences.\n",
        "\n",
        "## Advanced Options\n",
        "\n",
        "Beyond local editing two things are quite important: editing the notebooks in the markdown format and running Jupyter remotely.\n",
        "The latter matters when we want to run the code on a faster server.\n",
        "The former matters since Jupyter's native ipynb format stores a lot of auxiliary data that is\n",
        "irrelevant to the content,\n",
        "mostly related to how and where the code is run.\n",
        "This is confusing for Git, making\n",
        "reviewing contributions very difficult.\n",
        "Fortunately there is an alternative---native editing in the markdown format.\n",
        "\n",
        "### Markdown Files in Jupyter\n",
        "\n",
        "If you wish to contribute to the content of this book, you need to modify the\n",
        "source file (md file, not ipynb file) on GitHub.\n",
        "Using the notedown plugin we\n",
        "can modify notebooks in the md format directly in Jupyter.\n",
        "\n",
        "\n",
        "First, install the notedown plugin, run the Jupyter Notebook, and load the plugin:\n",
        "\n",
        "```\n",
        "pip install d2l-notedown  # You may need to uninstall the original notedown.\n",
        "jupyter notebook --NotebookApp.contents_manager_class='notedown.NotedownContentsManager'\n",
        "```\n",
        "\n",
        "You may also turn on the notedown plugin by default whenever you run the Jupyter Notebook.\n",
        "First, generate a Jupyter Notebook configuration file (if it has already been generated, you can skip this step).\n",
        "\n",
        "```\n",
        "jupyter notebook --generate-config\n",
        "```\n",
        "\n",
        "Then, add the following line to the end of the Jupyter Notebook configuration file (for Linux or macOS, usually in the path `~/.jupyter/jupyter_notebook_config.py`):\n",
        "\n",
        "```\n",
        "c.NotebookApp.contents_manager_class = 'notedown.NotedownContentsManager'\n",
        "```\n",
        "\n",
        "After that, you only need to run the `jupyter notebook` command to turn on the notedown plugin by default.\n",
        "\n",
        "### Running Jupyter Notebooks on a Remote Server\n",
        "\n",
        "Sometimes, you may want to run Jupyter notebooks on a remote server and access it through a browser on your local computer. If Linux or macOS is installed on your local machine (Windows can also support this function through third-party software such as PuTTY), you can use port forwarding:\n",
        "\n",
        "```\n",
        "ssh myserver -L 8888:localhost:8888\n",
        "```\n",
        "\n",
        "The above string `myserver` is the address of the remote server.\n",
        "Then we can use http://localhost:8888 to access the remote server `myserver` that runs Jupyter notebooks. We will detail on how to run Jupyter notebooks on AWS instances\n",
        "later in this appendix.\n",
        "\n",
        "### Timing\n",
        "\n",
        "We can use the `ExecuteTime` plugin to time the execution of each code cell in Jupyter notebooks.\n",
        "Use the following commands to install the plugin:\n",
        "\n",
        "```\n",
        "pip install jupyter_contrib_nbextensions\n",
        "jupyter contrib nbextension install --user\n",
        "jupyter nbextension enable execute_time/ExecuteTime\n",
        "```\n",
        "\n",
        "## Summary\n",
        "\n",
        "* Using the Jupyter Notebook tool, we can edit, run, and contribute to each section of the book.\n",
        "* We can run Jupyter notebooks on remote servers using port forwarding.\n",
        "\n",
        "\n",
        "## Exercises\n",
        "\n",
        "1. Edit and run the code in this book with the Jupyter Notebook on your local machine.\n",
        "1. Edit and run the code in this book with the Jupyter Notebook *remotely* via port forwarding.\n",
        "1. Compare the running time of the operations $\\mathbf{A}^\\top \\mathbf{B}$ and $\\mathbf{A} \\mathbf{B}$ for two square matrices in $\\mathbb{R}^{1024 \\times 1024}$. Which one is faster?\n",
        "\n",
        "\n",
        "[Discussions](https://discuss.d2l.ai/t/421)\n"
      ]
    },
    {
      "cell_type": "code",
      "source": [
        "!pip install -q -U google-generativeai"
      ],
      "metadata": {
        "id": "uVQ_cpoNzNzR"
      },
      "id": "uVQ_cpoNzNzR",
      "execution_count": 4,
      "outputs": []
    },
    {
      "cell_type": "code",
      "source": [
        "import pathlib\n",
        "import textwrap\n",
        "\n",
        "import google.generativeai as genai\n",
        "\n",
        "from IPython.display import display, Markdown\n",
        "\n",
        "def to_markdown(text):\n",
        "  text = text.replace('•', '  *')\n",
        "  return Markdown(textwrap.indent(text, '  >', predicate=lambda _:True))\n",
        ""
      ],
      "metadata": {
        "id": "4MwMW9xX1oQ7"
      },
      "id": "4MwMW9xX1oQ7",
      "execution_count": 5,
      "outputs": []
    },
    {
      "cell_type": "code",
      "source": [
        "# to store api key\n",
        "\n",
        "from google.colab import userdata"
      ],
      "metadata": {
        "id": "h9zFsrguDu-f"
      },
      "id": "h9zFsrguDu-f",
      "execution_count": 6,
      "outputs": []
    },
    {
      "cell_type": "code",
      "source": [
        "GOOGLE_API_KEY = userdata.get('GOOGLE_API_KEY')\n",
        "genai.configure(api_key=GOOGLE_API_KEY)"
      ],
      "metadata": {
        "id": "8GCrhpgFD1x2"
      },
      "id": "8GCrhpgFD1x2",
      "execution_count": 7,
      "outputs": []
    },
    {
      "cell_type": "code",
      "source": [
        "# list models\n",
        "for m in genai.list_models():\n",
        "  if 'generateContent' in m.supported_generation_methods:\n",
        "    print(m.name)\n",
        "\n",
        "  # print(f'{m.name}: {m.description}')"
      ],
      "metadata": {
        "id": "gGeTJo5uEKM9",
        "outputId": "778a9eca-34c9-4726-936c-1587d0e4a85d",
        "colab": {
          "base_uri": "https://localhost:8080/",
          "height": 555
        }
      },
      "id": "gGeTJo5uEKM9",
      "execution_count": 8,
      "outputs": [
        {
          "output_type": "stream",
          "name": "stdout",
          "text": [
            "models/gemini-1.0-pro-latest\n",
            "models/gemini-1.0-pro\n",
            "models/gemini-pro\n",
            "models/gemini-1.0-pro-001\n",
            "models/gemini-1.0-pro-vision-latest\n",
            "models/gemini-pro-vision\n",
            "models/gemini-1.5-pro-latest\n",
            "models/gemini-1.5-pro-001\n",
            "models/gemini-1.5-pro-002\n",
            "models/gemini-1.5-pro\n",
            "models/gemini-1.5-pro-exp-0801\n",
            "models/gemini-1.5-pro-exp-0827\n",
            "models/gemini-1.5-flash-latest\n",
            "models/gemini-1.5-flash-001\n",
            "models/gemini-1.5-flash-001-tuning\n",
            "models/gemini-1.5-flash\n",
            "models/gemini-1.5-flash-exp-0827\n",
            "models/gemini-1.5-flash-002\n",
            "models/gemini-1.5-flash-8b\n",
            "models/gemini-1.5-flash-8b-001\n",
            "models/gemini-1.5-flash-8b-latest\n",
            "models/gemini-1.5-flash-8b-exp-0827\n",
            "models/gemini-1.5-flash-8b-exp-0924\n",
            "models/gemini-2.0-flash-exp\n",
            "models/gemini-exp-1206\n",
            "models/gemini-exp-1121\n",
            "models/gemini-exp-1114\n",
            "models/gemini-2.0-flash-thinking-exp-01-21\n",
            "models/gemini-2.0-flash-thinking-exp\n",
            "models/gemini-2.0-flash-thinking-exp-1219\n",
            "models/learnlm-1.5-pro-experimental\n"
          ]
        }
      ]
    },
    {
      "cell_type": "code",
      "source": [
        "model = genai.GenerativeModel('gemini-pro')"
      ],
      "metadata": {
        "id": "dzdL7TMOEqXm"
      },
      "id": "dzdL7TMOEqXm",
      "execution_count": 12,
      "outputs": []
    },
    {
      "cell_type": "code",
      "source": [
        "model"
      ],
      "metadata": {
        "id": "KweH7WGaEwL-",
        "outputId": "b1da55d9-56b5-4555-b0f4-090cef62dfe9",
        "colab": {
          "base_uri": "https://localhost:8080/"
        }
      },
      "id": "KweH7WGaEwL-",
      "execution_count": 13,
      "outputs": [
        {
          "output_type": "execute_result",
          "data": {
            "text/plain": [
              "genai.GenerativeModel(\n",
              "    model_name='models/gemini-pro',\n",
              "    generation_config={},\n",
              "    safety_settings={},\n",
              "    tools=None,\n",
              "    system_instruction=None,\n",
              "    cached_content=None\n",
              ")"
            ]
          },
          "metadata": {},
          "execution_count": 13
        }
      ]
    },
    {
      "cell_type": "code",
      "source": [
        "# generate content method holds the variety of cases\n",
        "#  including multi turn chat and multimodal input, depending on what the\n",
        "# underlying model supports. The available models onli support\n",
        "# text and images as input, and text as output.\n",
        "\n"
      ],
      "metadata": {
        "id": "cPsAeLY3E1he"
      },
      "id": "cPsAeLY3E1he",
      "execution_count": null,
      "outputs": []
    },
    {
      "cell_type": "code",
      "source": [
        "%%time\n",
        "response = model.generate_content(\"Meaning of life\")"
      ],
      "metadata": {
        "id": "_-2-Q61guuec",
        "outputId": "8fadd4a9-3876-4c0d-c97f-48a13dbcd7b1",
        "colab": {
          "base_uri": "https://localhost:8080/",
          "height": 52
        }
      },
      "id": "_-2-Q61guuec",
      "execution_count": 14,
      "outputs": [
        {
          "output_type": "stream",
          "name": "stdout",
          "text": [
            "CPU times: user 106 ms, sys: 17.4 ms, total: 124 ms\n",
            "Wall time: 9.31 s\n"
          ]
        }
      ]
    },
    {
      "cell_type": "code",
      "source": [
        "response.text"
      ],
      "metadata": {
        "id": "_H9exI7A2aFt",
        "outputId": "90afc12b-2dc7-4bbb-f121-c10f53fdcb74",
        "colab": {
          "base_uri": "https://localhost:8080/",
          "height": 139
        }
      },
      "id": "_H9exI7A2aFt",
      "execution_count": 16,
      "outputs": [
        {
          "output_type": "execute_result",
          "data": {
            "text/plain": [
              "'**The Meaning of Life**\\n\\nThe meaning of life is a profound question that has been pondered by philosophers, theologians, scientists, and people of all walks of life for centuries. There is no one definitive answer that everyone agrees on, but there are many different perspectives and theories that have been proposed.\\n\\n**Philosophical Perspectives**\\n\\n* **Existentialism:** The meaning of life is not given to us, but rather something that we must create for ourselves through our actions and choices.\\n* **Purposivism:** The meaning of life is to fulfill a specific purpose, such as finding happiness, achieving success, or contributing to society.\\n* **Nihilism:** The meaning of life is ultimately meaningless and absurd.\\n\\n**Theological Perspectives**\\n\\n* **Religious Traditions:** Many religions believe that the meaning of life is to follow a set of divine commandments or to attain a higher spiritual realm.\\n* **Secular Humanism:** Humanism asserts that the meaning of life is to live a fulfilling and ethical life based on reason and compassion.\\n\\n**Scientific Perspectives**\\n\\n* **Evolutionary Biology:** The meaning of life is to pass on our genes to future generations.\\n* **Quantum Physics:** Some theories suggest that the meaning of life may be related to the interconnectedness of all things.\\n* **Neuroscience:** Research indicates that the brain produces subjective experiences, which may provide insight into the meaning of life.\\n\\n**Personal Perspectives**\\n\\nUltimately, the meaning of life is a deeply personal question that can only be answered by each individual. Some common themes that emerge in personal narratives include:\\n\\n* **Purpose:** Finding a purpose or calling in life that gives us a sense of direction and fulfillment.\\n* **Relationships:** Establishing meaningful relationships with others and contributing to their well-being.\\n* **Growth:** Constantly learning, evolving, and becoming a better person.\\n* **Contribution:** Making a positive impact on the world through our actions and ideas.\\n* **Experiences:** Appreciating the beauty and wonder of life and creating memories that enrich our existence.\\n\\nIt is important to note that the meaning of life can change over time and may vary depending on our circumstances and experiences. Ultimately, the quest for meaning is an ongoing journey that can provide ongoing fulfillment and purpose.'"
            ],
            "application/vnd.google.colaboratory.intrinsic+json": {
              "type": "string"
            }
          },
          "metadata": {},
          "execution_count": 16
        }
      ]
    },
    {
      "cell_type": "code",
      "source": [
        "to_markdown(response.text)"
      ],
      "metadata": {
        "id": "Z5z1XlJs25-6",
        "outputId": "d45d712b-fe7d-4876-fbde-060c4994beb2",
        "colab": {
          "base_uri": "https://localhost:8080/",
          "height": 545
        }
      },
      "id": "Z5z1XlJs25-6",
      "execution_count": 17,
      "outputs": [
        {
          "output_type": "execute_result",
          "data": {
            "text/plain": [
              "<IPython.core.display.Markdown object>"
            ],
            "text/markdown": "  >**The Meaning of Life**\n  >\n  >The meaning of life is a profound question that has been pondered by philosophers, theologians, scientists, and people of all walks of life for centuries. There is no one definitive answer that everyone agrees on, but there are many different perspectives and theories that have been proposed.\n  >\n  >**Philosophical Perspectives**\n  >\n  >* **Existentialism:** The meaning of life is not given to us, but rather something that we must create for ourselves through our actions and choices.\n  >* **Purposivism:** The meaning of life is to fulfill a specific purpose, such as finding happiness, achieving success, or contributing to society.\n  >* **Nihilism:** The meaning of life is ultimately meaningless and absurd.\n  >\n  >**Theological Perspectives**\n  >\n  >* **Religious Traditions:** Many religions believe that the meaning of life is to follow a set of divine commandments or to attain a higher spiritual realm.\n  >* **Secular Humanism:** Humanism asserts that the meaning of life is to live a fulfilling and ethical life based on reason and compassion.\n  >\n  >**Scientific Perspectives**\n  >\n  >* **Evolutionary Biology:** The meaning of life is to pass on our genes to future generations.\n  >* **Quantum Physics:** Some theories suggest that the meaning of life may be related to the interconnectedness of all things.\n  >* **Neuroscience:** Research indicates that the brain produces subjective experiences, which may provide insight into the meaning of life.\n  >\n  >**Personal Perspectives**\n  >\n  >Ultimately, the meaning of life is a deeply personal question that can only be answered by each individual. Some common themes that emerge in personal narratives include:\n  >\n  >* **Purpose:** Finding a purpose or calling in life that gives us a sense of direction and fulfillment.\n  >* **Relationships:** Establishing meaningful relationships with others and contributing to their well-being.\n  >* **Growth:** Constantly learning, evolving, and becoming a better person.\n  >* **Contribution:** Making a positive impact on the world through our actions and ideas.\n  >* **Experiences:** Appreciating the beauty and wonder of life and creating memories that enrich our existence.\n  >\n  >It is important to note that the meaning of life can change over time and may vary depending on our circumstances and experiences. Ultimately, the quest for meaning is an ongoing journey that can provide ongoing fulfillment and purpose."
          },
          "metadata": {},
          "execution_count": 17
        }
      ]
    },
    {
      "cell_type": "code",
      "source": [
        "response.prompt_feedback"
      ],
      "metadata": {
        "id": "hCUj2CBJ3Gxv",
        "outputId": "8ddcc8fd-7c31-4139-9abb-5449a9155b92",
        "colab": {
          "base_uri": "https://localhost:8080/"
        }
      },
      "id": "hCUj2CBJ3Gxv",
      "execution_count": 19,
      "outputs": [
        {
          "output_type": "execute_result",
          "data": {
            "text/plain": []
          },
          "metadata": {},
          "execution_count": 19
        }
      ]
    },
    {
      "cell_type": "code",
      "source": [
        "response.candidates"
      ],
      "metadata": {
        "id": "fvau3CJO3l7a",
        "outputId": "d3edf106-c7f0-447a-a975-cbedc6855e92",
        "colab": {
          "base_uri": "https://localhost:8080/"
        }
      },
      "id": "fvau3CJO3l7a",
      "execution_count": 20,
      "outputs": [
        {
          "output_type": "execute_result",
          "data": {
            "text/plain": [
              "[index: 0\n",
              "content {\n",
              "  parts {\n",
              "    text: \"**The Meaning of Life**\\n\\nThe meaning of life is a profound question that has been pondered by philosophers, theologians, scientists, and people of all walks of life for centuries. There is no one definitive answer that everyone agrees on, but there are many different perspectives and theories that have been proposed.\\n\\n**Philosophical Perspectives**\\n\\n* **Existentialism:** The meaning of life is not given to us, but rather something that we must create for ourselves through our actions and choices.\\n* **Purposivism:** The meaning of life is to fulfill a specific purpose, such as finding happiness, achieving success, or contributing to society.\\n* **Nihilism:** The meaning of life is ultimately meaningless and absurd.\\n\\n**Theological Perspectives**\\n\\n* **Religious Traditions:** Many religions believe that the meaning of life is to follow a set of divine commandments or to attain a higher spiritual realm.\\n* **Secular Humanism:** Humanism asserts that the meaning of life is to live a fulfilling and ethical life based on reason and compassion.\\n\\n**Scientific Perspectives**\\n\\n* **Evolutionary Biology:** The meaning of life is to pass on our genes to future generations.\\n* **Quantum Physics:** Some theories suggest that the meaning of life may be related to the interconnectedness of all things.\\n* **Neuroscience:** Research indicates that the brain produces subjective experiences, which may provide insight into the meaning of life.\\n\\n**Personal Perspectives**\\n\\nUltimately, the meaning of life is a deeply personal question that can only be answered by each individual. Some common themes that emerge in personal narratives include:\\n\\n* **Purpose:** Finding a purpose or calling in life that gives us a sense of direction and fulfillment.\\n* **Relationships:** Establishing meaningful relationships with others and contributing to their well-being.\\n* **Growth:** Constantly learning, evolving, and becoming a better person.\\n* **Contribution:** Making a positive impact on the world through our actions and ideas.\\n* **Experiences:** Appreciating the beauty and wonder of life and creating memories that enrich our existence.\\n\\nIt is important to note that the meaning of life can change over time and may vary depending on our circumstances and experiences. Ultimately, the quest for meaning is an ongoing journey that can provide ongoing fulfillment and purpose.\"\n",
              "  }\n",
              "  role: \"model\"\n",
              "}\n",
              "finish_reason: STOP\n",
              "safety_ratings {\n",
              "  category: HARM_CATEGORY_SEXUALLY_EXPLICIT\n",
              "  probability: NEGLIGIBLE\n",
              "}\n",
              "safety_ratings {\n",
              "  category: HARM_CATEGORY_HATE_SPEECH\n",
              "  probability: NEGLIGIBLE\n",
              "}\n",
              "safety_ratings {\n",
              "  category: HARM_CATEGORY_HARASSMENT\n",
              "  probability: NEGLIGIBLE\n",
              "}\n",
              "safety_ratings {\n",
              "  category: HARM_CATEGORY_DANGEROUS_CONTENT\n",
              "  probability: NEGLIGIBLE\n",
              "}\n",
              "]"
            ]
          },
          "metadata": {},
          "execution_count": 20
        }
      ]
    },
    {
      "cell_type": "code",
      "source": [
        "for chunk in response:\n",
        "  print(chunk.text)\n",
        "  print(\"_\"*80)"
      ],
      "metadata": {
        "id": "Rl9-HZ8u4EnL",
        "outputId": "eb12f3f2-9fa6-4f94-ac92-498486e03b22",
        "colab": {
          "base_uri": "https://localhost:8080/"
        }
      },
      "id": "Rl9-HZ8u4EnL",
      "execution_count": 21,
      "outputs": [
        {
          "output_type": "stream",
          "name": "stdout",
          "text": [
            "**The Meaning of Life**\n",
            "\n",
            "The meaning of life is a profound question that has been pondered by philosophers, theologians, scientists, and people of all walks of life for centuries. There is no one definitive answer that everyone agrees on, but there are many different perspectives and theories that have been proposed.\n",
            "\n",
            "**Philosophical Perspectives**\n",
            "\n",
            "* **Existentialism:** The meaning of life is not given to us, but rather something that we must create for ourselves through our actions and choices.\n",
            "* **Purposivism:** The meaning of life is to fulfill a specific purpose, such as finding happiness, achieving success, or contributing to society.\n",
            "* **Nihilism:** The meaning of life is ultimately meaningless and absurd.\n",
            "\n",
            "**Theological Perspectives**\n",
            "\n",
            "* **Religious Traditions:** Many religions believe that the meaning of life is to follow a set of divine commandments or to attain a higher spiritual realm.\n",
            "* **Secular Humanism:** Humanism asserts that the meaning of life is to live a fulfilling and ethical life based on reason and compassion.\n",
            "\n",
            "**Scientific Perspectives**\n",
            "\n",
            "* **Evolutionary Biology:** The meaning of life is to pass on our genes to future generations.\n",
            "* **Quantum Physics:** Some theories suggest that the meaning of life may be related to the interconnectedness of all things.\n",
            "* **Neuroscience:** Research indicates that the brain produces subjective experiences, which may provide insight into the meaning of life.\n",
            "\n",
            "**Personal Perspectives**\n",
            "\n",
            "Ultimately, the meaning of life is a deeply personal question that can only be answered by each individual. Some common themes that emerge in personal narratives include:\n",
            "\n",
            "* **Purpose:** Finding a purpose or calling in life that gives us a sense of direction and fulfillment.\n",
            "* **Relationships:** Establishing meaningful relationships with others and contributing to their well-being.\n",
            "* **Growth:** Constantly learning, evolving, and becoming a better person.\n",
            "* **Contribution:** Making a positive impact on the world through our actions and ideas.\n",
            "* **Experiences:** Appreciating the beauty and wonder of life and creating memories that enrich our existence.\n",
            "\n",
            "It is important to note that the meaning of life can change over time and may vary depending on our circumstances and experiences. Ultimately, the quest for meaning is an ongoing journey that can provide ongoing fulfillment and purpose.\n",
            "________________________________________________________________________________\n"
          ]
        }
      ]
    },
    {
      "cell_type": "code",
      "source": [
        "!curl -o  https://unsplash.com/photos/the-sun-is-setting-at-the-end-of-a-pier-BSCHQtzv98Y"
      ],
      "metadata": {
        "id": "YqoTMapH-nu6",
        "outputId": "0bc1ee48-e1a2-4f35-cf2d-b79870cbba8d",
        "colab": {
          "base_uri": "https://localhost:8080/"
        }
      },
      "id": "YqoTMapH-nu6",
      "execution_count": 2,
      "outputs": [
        {
          "output_type": "stream",
          "name": "stdout",
          "text": [
            "  % Total    % Received % Xferd  Average Speed   Time    Time     Time  Current\n",
            "                                 Dload  Upload   Total   Spent    Left  Speed\n",
            "100 22457    0 22457    0     0  76539      0 --:--:-- --:--:-- --:--:-- 76645\n"
          ]
        }
      ]
    },
    {
      "cell_type": "code",
      "source": [
        "import PIL.Image\n",
        "\n",
        "img = PIL.Image.open('IMG_20220129_183156.jpg')\n",
        "img\n"
      ],
      "metadata": {
        "id": "iP83Kkmw_1jn",
        "outputId": "36b8776f-9c94-409e-a8e5-10a98863682c",
        "colab": {
          "base_uri": "https://localhost:8080/",
          "height": 315
        }
      },
      "id": "iP83Kkmw_1jn",
      "execution_count": 8,
      "outputs": [
        {
          "output_type": "error",
          "ename": "UnidentifiedImageError",
          "evalue": "cannot identify image file 'IMG_20220129_183156.jpg'",
          "traceback": [
            "\u001b[0;31m---------------------------------------------------------------------------\u001b[0m",
            "\u001b[0;31mUnidentifiedImageError\u001b[0m                    Traceback (most recent call last)",
            "\u001b[0;32m<ipython-input-8-adac0401b937>\u001b[0m in \u001b[0;36m<cell line: 0>\u001b[0;34m()\u001b[0m\n\u001b[1;32m      1\u001b[0m \u001b[0;32mimport\u001b[0m \u001b[0mPIL\u001b[0m\u001b[0;34m.\u001b[0m\u001b[0mImage\u001b[0m\u001b[0;34m\u001b[0m\u001b[0;34m\u001b[0m\u001b[0m\n\u001b[1;32m      2\u001b[0m \u001b[0;34m\u001b[0m\u001b[0m\n\u001b[0;32m----> 3\u001b[0;31m \u001b[0mimg\u001b[0m \u001b[0;34m=\u001b[0m \u001b[0mPIL\u001b[0m\u001b[0;34m.\u001b[0m\u001b[0mImage\u001b[0m\u001b[0;34m.\u001b[0m\u001b[0mopen\u001b[0m\u001b[0;34m(\u001b[0m\u001b[0;34m'IMG_20220129_183156.jpg'\u001b[0m\u001b[0;34m)\u001b[0m\u001b[0;34m\u001b[0m\u001b[0;34m\u001b[0m\u001b[0m\n\u001b[0m\u001b[1;32m      4\u001b[0m \u001b[0mimg\u001b[0m\u001b[0;34m\u001b[0m\u001b[0;34m\u001b[0m\u001b[0m\n",
            "\u001b[0;32m/usr/local/lib/python3.11/dist-packages/PIL/Image.py\u001b[0m in \u001b[0;36mopen\u001b[0;34m(fp, mode, formats)\u001b[0m\n\u001b[1;32m   3530\u001b[0m         \u001b[0mwarnings\u001b[0m\u001b[0;34m.\u001b[0m\u001b[0mwarn\u001b[0m\u001b[0;34m(\u001b[0m\u001b[0mmessage\u001b[0m\u001b[0;34m)\u001b[0m\u001b[0;34m\u001b[0m\u001b[0;34m\u001b[0m\u001b[0m\n\u001b[1;32m   3531\u001b[0m     \u001b[0mmsg\u001b[0m \u001b[0;34m=\u001b[0m \u001b[0;34m\"cannot identify image file %r\"\u001b[0m \u001b[0;34m%\u001b[0m \u001b[0;34m(\u001b[0m\u001b[0mfilename\u001b[0m \u001b[0;32mif\u001b[0m \u001b[0mfilename\u001b[0m \u001b[0;32melse\u001b[0m \u001b[0mfp\u001b[0m\u001b[0;34m)\u001b[0m\u001b[0;34m\u001b[0m\u001b[0;34m\u001b[0m\u001b[0m\n\u001b[0;32m-> 3532\u001b[0;31m     \u001b[0;32mraise\u001b[0m \u001b[0mUnidentifiedImageError\u001b[0m\u001b[0;34m(\u001b[0m\u001b[0mmsg\u001b[0m\u001b[0;34m)\u001b[0m\u001b[0;34m\u001b[0m\u001b[0;34m\u001b[0m\u001b[0m\n\u001b[0m\u001b[1;32m   3533\u001b[0m \u001b[0;34m\u001b[0m\u001b[0m\n\u001b[1;32m   3534\u001b[0m \u001b[0;34m\u001b[0m\u001b[0m\n",
            "\u001b[0;31mUnidentifiedImageError\u001b[0m: cannot identify image file 'IMG_20220129_183156.jpg'"
          ]
        }
      ]
    }
  ],
  "metadata": {
    "kernelspec": {
      "display_name": "Python 3",
      "name": "python3"
    },
    "language_info": {
      "name": "python"
    },
    "required_libs": [],
    "colab": {
      "provenance": []
    }
  },
  "nbformat": 4,
  "nbformat_minor": 5
}